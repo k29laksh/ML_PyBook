{
  "nbformat": 4,
  "nbformat_minor": 0,
  "metadata": {
    "colab": {
      "provenance": []
    },
    "kernelspec": {
      "name": "python3",
      "display_name": "Python 3"
    },
    "language_info": {
      "name": "python"
    }
  },
  "cells": [
    {
      "cell_type": "markdown",
      "source": [
        "# **Python Datatypes**"
      ],
      "metadata": {
        "id": "OCgRRyiaAC75"
      }
    },
    {
      "cell_type": "code",
      "source": [
        "name=\"Lucky\",\"laksh\"\n",
        "name"
      ],
      "metadata": {
        "colab": {
          "base_uri": "https://localhost:8080/"
        },
        "id": "685SHg8PAUZ3",
        "outputId": "f6a15e4b-8de6-4226-ea75-9c3aca80a661"
      },
      "execution_count": 3,
      "outputs": [
        {
          "output_type": "execute_result",
          "data": {
            "text/plain": [
              "('Lucky', 'laksh')"
            ]
          },
          "metadata": {},
          "execution_count": 3
        }
      ]
    },
    {
      "cell_type": "code",
      "source": [
        "type(name)"
      ],
      "metadata": {
        "colab": {
          "base_uri": "https://localhost:8080/"
        },
        "id": "l7OMtptqAkus",
        "outputId": "1e84f7f6-2b1e-44f8-fa29-8936cc251163"
      },
      "execution_count": 4,
      "outputs": [
        {
          "output_type": "execute_result",
          "data": {
            "text/plain": [
              "tuple"
            ]
          },
          "metadata": {},
          "execution_count": 4
        }
      ]
    },
    {
      "cell_type": "code",
      "source": [
        "x=True\n",
        "y=\"True\"\n",
        "type(x)\n"
      ],
      "metadata": {
        "colab": {
          "base_uri": "https://localhost:8080/"
        },
        "id": "rxHrJemTAuVB",
        "outputId": "a1f2dd44-40f7-46d2-afd4-abdb8777abe3"
      },
      "execution_count": 10,
      "outputs": [
        {
          "output_type": "execute_result",
          "data": {
            "text/plain": [
              "bool"
            ]
          },
          "metadata": {},
          "execution_count": 10
        }
      ]
    },
    {
      "cell_type": "code",
      "source": [
        "type(y)"
      ],
      "metadata": {
        "colab": {
          "base_uri": "https://localhost:8080/"
        },
        "id": "oc5q7jKqAj_g",
        "outputId": "565fa079-04f9-43cc-9c54-0307ef61ba52"
      },
      "execution_count": 11,
      "outputs": [
        {
          "output_type": "execute_result",
          "data": {
            "text/plain": [
              "str"
            ]
          },
          "metadata": {},
          "execution_count": 11
        }
      ]
    },
    {
      "cell_type": "markdown",
      "source": [
        "# **List(Mutable)**"
      ],
      "metadata": {
        "id": "6nVxb-pJBLqh"
      }
    },
    {
      "cell_type": "code",
      "source": [
        "list=[1,2,\"hello\",[1,2]]\n",
        "list"
      ],
      "metadata": {
        "colab": {
          "base_uri": "https://localhost:8080/"
        },
        "id": "AtPJ7cewBPjK",
        "outputId": "d24caa5e-49ad-449c-f472-c905a00f9e0e"
      },
      "execution_count": 12,
      "outputs": [
        {
          "output_type": "execute_result",
          "data": {
            "text/plain": [
              "[1, 2, 'hello', [1, 2]]"
            ]
          },
          "metadata": {},
          "execution_count": 12
        }
      ]
    },
    {
      "cell_type": "code",
      "source": [
        "type(list)"
      ],
      "metadata": {
        "colab": {
          "base_uri": "https://localhost:8080/"
        },
        "id": "hdRtzHaVBaay",
        "outputId": "8942c53e-d04a-44bf-99f8-21bb289ec5e9"
      },
      "execution_count": 13,
      "outputs": [
        {
          "output_type": "execute_result",
          "data": {
            "text/plain": [
              "list"
            ]
          },
          "metadata": {},
          "execution_count": 13
        }
      ]
    },
    {
      "cell_type": "code",
      "source": [
        "list[3]"
      ],
      "metadata": {
        "colab": {
          "base_uri": "https://localhost:8080/"
        },
        "id": "LxzpPCBqBeNA",
        "outputId": "79454c4c-17bb-4520-e6a6-bf3e0429a41b"
      },
      "execution_count": 14,
      "outputs": [
        {
          "output_type": "execute_result",
          "data": {
            "text/plain": [
              "[1, 2]"
            ]
          },
          "metadata": {},
          "execution_count": 14
        }
      ]
    },
    {
      "cell_type": "code",
      "source": [
        "list[3][1]"
      ],
      "metadata": {
        "colab": {
          "base_uri": "https://localhost:8080/"
        },
        "id": "Rs9VE9_QBjA_",
        "outputId": "595f1f95-e389-483c-c88b-c0fb7c1914c0"
      },
      "execution_count": 15,
      "outputs": [
        {
          "output_type": "execute_result",
          "data": {
            "text/plain": [
              "2"
            ]
          },
          "metadata": {},
          "execution_count": 15
        }
      ]
    },
    {
      "cell_type": "markdown",
      "source": [
        "# **Tuple(Immutable)**"
      ],
      "metadata": {
        "id": "9Sfi3uScB_fx"
      }
    },
    {
      "cell_type": "code",
      "source": [
        "sample_tuple=(1,3,1,\"hello\",[1,2,3])\n",
        "sample_tuple"
      ],
      "metadata": {
        "colab": {
          "base_uri": "https://localhost:8080/"
        },
        "id": "PiC26YIvCHAR",
        "outputId": "177b6033-a2b4-42c2-bfe2-f1836d085db0"
      },
      "execution_count": 17,
      "outputs": [
        {
          "output_type": "execute_result",
          "data": {
            "text/plain": [
              "(1, 3, 1, 'hello', [1, 2, 3])"
            ]
          },
          "metadata": {},
          "execution_count": 17
        }
      ]
    },
    {
      "cell_type": "code",
      "source": [
        "sample_tuple[4]"
      ],
      "metadata": {
        "colab": {
          "base_uri": "https://localhost:8080/"
        },
        "id": "bpqFdGXUCcgQ",
        "outputId": "b3052495-fa16-4b6f-e316-eb7c07882174"
      },
      "execution_count": 18,
      "outputs": [
        {
          "output_type": "execute_result",
          "data": {
            "text/plain": [
              "[1, 2, 3]"
            ]
          },
          "metadata": {},
          "execution_count": 18
        }
      ]
    },
    {
      "cell_type": "code",
      "source": [
        "sample_tuple[4][1]=100\n",
        "sample_tuple[4]"
      ],
      "metadata": {
        "colab": {
          "base_uri": "https://localhost:8080/"
        },
        "id": "Z-W9HUJ-ChoS",
        "outputId": "a7be28e2-4513-4e83-d4a4-27f0f1992a93"
      },
      "execution_count": 19,
      "outputs": [
        {
          "output_type": "execute_result",
          "data": {
            "text/plain": [
              "[1, 100, 3]"
            ]
          },
          "metadata": {},
          "execution_count": 19
        }
      ]
    },
    {
      "cell_type": "code",
      "source": [
        "sample_tuple2=1,2,3,2,\"hello\"\n",
        "type(sample_tuple2)"
      ],
      "metadata": {
        "colab": {
          "base_uri": "https://localhost:8080/"
        },
        "id": "P0uEfA6FCve2",
        "outputId": "7dc24295-5e10-4fcf-adc3-f436559ab924"
      },
      "execution_count": 20,
      "outputs": [
        {
          "output_type": "execute_result",
          "data": {
            "text/plain": [
              "tuple"
            ]
          },
          "metadata": {},
          "execution_count": 20
        }
      ]
    },
    {
      "cell_type": "markdown",
      "source": [
        "# **Dictionary(Mutable)**"
      ],
      "metadata": {
        "id": "Pl_axtNsDHoz"
      }
    },
    {
      "cell_type": "code",
      "source": [
        "dict={'name':\"lucky\",\"class\":10,\"sub\":[\"python\",\"dsa\",\"toc\"]}\n",
        "dict"
      ],
      "metadata": {
        "colab": {
          "base_uri": "https://localhost:8080/"
        },
        "id": "eP91pAKGDUYh",
        "outputId": "0bb98866-2eb5-4897-d101-0219da41367d"
      },
      "execution_count": 24,
      "outputs": [
        {
          "output_type": "execute_result",
          "data": {
            "text/plain": [
              "{'name': 'lucky', 'class': 10, 'sub': ['python', 'dsa', 'toc']}"
            ]
          },
          "metadata": {},
          "execution_count": 24
        }
      ]
    },
    {
      "cell_type": "code",
      "source": [
        "dict.keys()"
      ],
      "metadata": {
        "colab": {
          "base_uri": "https://localhost:8080/"
        },
        "id": "ugZ98fXzDtJQ",
        "outputId": "fde2a5d9-7020-418a-d1ba-4f5b5789ddd2"
      },
      "execution_count": 25,
      "outputs": [
        {
          "output_type": "execute_result",
          "data": {
            "text/plain": [
              "dict_keys(['name', 'class', 'sub'])"
            ]
          },
          "metadata": {},
          "execution_count": 25
        }
      ]
    },
    {
      "cell_type": "code",
      "source": [
        "dict.values()"
      ],
      "metadata": {
        "colab": {
          "base_uri": "https://localhost:8080/"
        },
        "id": "L_etzHODEDiK",
        "outputId": "4fc1f9eb-3663-4890-fa3e-35b2aaaa7366"
      },
      "execution_count": 26,
      "outputs": [
        {
          "output_type": "execute_result",
          "data": {
            "text/plain": [
              "dict_values(['lucky', 10, ['python', 'dsa', 'toc']])"
            ]
          },
          "metadata": {},
          "execution_count": 26
        }
      ]
    },
    {
      "cell_type": "code",
      "source": [
        "dict['name']=\"laksh\"\n",
        "dict"
      ],
      "metadata": {
        "colab": {
          "base_uri": "https://localhost:8080/"
        },
        "id": "7CUR4GiFELdI",
        "outputId": "e7a27fe4-1d4c-4af8-d5ea-ee08a06e25dc"
      },
      "execution_count": 27,
      "outputs": [
        {
          "output_type": "execute_result",
          "data": {
            "text/plain": [
              "{'name': 'laksh', 'class': 10, 'sub': ['python', 'dsa', 'toc']}"
            ]
          },
          "metadata": {},
          "execution_count": 27
        }
      ]
    },
    {
      "cell_type": "markdown",
      "source": [
        "# **Sets(Mutable)**\n",
        "**Mutable objects are not allowed in sets**"
      ],
      "metadata": {
        "id": "FK_jvGdXETzv"
      }
    },
    {
      "cell_type": "code",
      "source": [
        "sample_set={1,2,\"string\",(1,2,3)}\n",
        "sample_set"
      ],
      "metadata": {
        "colab": {
          "base_uri": "https://localhost:8080/"
        },
        "id": "maTGMtfCEbRh",
        "outputId": "01102e3e-874c-4a05-f229-f06716add9a6"
      },
      "execution_count": 28,
      "outputs": [
        {
          "output_type": "execute_result",
          "data": {
            "text/plain": [
              "{(1, 2, 3), 1, 2, 'string'}"
            ]
          },
          "metadata": {},
          "execution_count": 28
        }
      ]
    },
    {
      "cell_type": "code",
      "source": [
        "sample_set.add(5)\n",
        "sample_set"
      ],
      "metadata": {
        "colab": {
          "base_uri": "https://localhost:8080/"
        },
        "id": "jI22OvoFEid5",
        "outputId": "a0cbdbdf-1a2b-4217-db93-1bd1bc374219"
      },
      "execution_count": 29,
      "outputs": [
        {
          "output_type": "execute_result",
          "data": {
            "text/plain": [
              "{(1, 2, 3), 1, 2, 5, 'string'}"
            ]
          },
          "metadata": {},
          "execution_count": 29
        }
      ]
    },
    {
      "cell_type": "code",
      "source": [],
      "metadata": {
        "id": "ePRxNk7jFrIC"
      },
      "execution_count": null,
      "outputs": []
    }
  ]
}